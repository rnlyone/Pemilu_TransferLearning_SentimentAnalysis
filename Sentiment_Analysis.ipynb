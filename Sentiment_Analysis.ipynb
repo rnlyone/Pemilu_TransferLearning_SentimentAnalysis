{
 "cells": [
  {
   "cell_type": "markdown",
   "metadata": {},
   "source": [
    "# Preparation"
   ]
  },
  {
   "cell_type": "markdown",
   "metadata": {},
   "source": [
    "## Libs"
   ]
  },
  {
   "cell_type": "code",
   "execution_count": 1,
   "metadata": {},
   "outputs": [
    {
     "name": "stdout",
     "output_type": "stream",
     "text": [
      "Collecting Sastrawi\n",
      "  Downloading Sastrawi-1.0.1-py2.py3-none-any.whl.metadata (909 bytes)\n",
      "Downloading Sastrawi-1.0.1-py2.py3-none-any.whl (209 kB)\n",
      "\u001b[2K   \u001b[90m━━━━━━━━━━━━━━━━━━━━━━━━━━━━━━━━━━━━━━━━\u001b[0m \u001b[32m209.7/209.7 kB\u001b[0m \u001b[31m5.3 MB/s\u001b[0m eta \u001b[36m0:00:00\u001b[0m00:01\u001b[0m\n",
      "\u001b[?25hInstalling collected packages: Sastrawi\n",
      "Successfully installed Sastrawi-1.0.1\n",
      "Collecting transformers\n",
      "  Downloading transformers-4.46.1-py3-none-any.whl.metadata (44 kB)\n",
      "\u001b[2K     \u001b[90m━━━━━━━━━━━━━━━━━━━━━━━━━━━━━━━━━━━━━━━━\u001b[0m \u001b[32m44.1/44.1 kB\u001b[0m \u001b[31m1.9 MB/s\u001b[0m eta \u001b[36m0:00:00\u001b[0m\n",
      "\u001b[?25hRequirement already satisfied: filelock in /opt/anaconda3/lib/python3.11/site-packages (from transformers) (3.13.1)\n",
      "Collecting huggingface-hub<1.0,>=0.23.2 (from transformers)\n",
      "  Downloading huggingface_hub-0.26.2-py3-none-any.whl.metadata (13 kB)\n",
      "Requirement already satisfied: numpy>=1.17 in /opt/anaconda3/lib/python3.11/site-packages (from transformers) (1.26.4)\n",
      "Requirement already satisfied: packaging>=20.0 in /opt/anaconda3/lib/python3.11/site-packages (from transformers) (23.1)\n",
      "Requirement already satisfied: pyyaml>=5.1 in /opt/anaconda3/lib/python3.11/site-packages (from transformers) (6.0.1)\n",
      "Requirement already satisfied: regex!=2019.12.17 in /opt/anaconda3/lib/python3.11/site-packages (from transformers) (2023.10.3)\n",
      "Requirement already satisfied: requests in /opt/anaconda3/lib/python3.11/site-packages (from transformers) (2.31.0)\n",
      "Collecting safetensors>=0.4.1 (from transformers)\n",
      "  Downloading safetensors-0.4.5-cp311-cp311-macosx_11_0_arm64.whl.metadata (3.8 kB)\n",
      "Collecting tokenizers<0.21,>=0.20 (from transformers)\n",
      "  Downloading tokenizers-0.20.1-cp311-cp311-macosx_11_0_arm64.whl.metadata (6.7 kB)\n",
      "Requirement already satisfied: tqdm>=4.27 in /opt/anaconda3/lib/python3.11/site-packages (from transformers) (4.65.0)\n",
      "Requirement already satisfied: fsspec>=2023.5.0 in /opt/anaconda3/lib/python3.11/site-packages (from huggingface-hub<1.0,>=0.23.2->transformers) (2023.10.0)\n",
      "Requirement already satisfied: typing-extensions>=3.7.4.3 in /opt/anaconda3/lib/python3.11/site-packages (from huggingface-hub<1.0,>=0.23.2->transformers) (4.9.0)\n",
      "Requirement already satisfied: charset-normalizer<4,>=2 in /opt/anaconda3/lib/python3.11/site-packages (from requests->transformers) (2.0.4)\n",
      "Requirement already satisfied: idna<4,>=2.5 in /opt/anaconda3/lib/python3.11/site-packages (from requests->transformers) (3.4)\n",
      "Requirement already satisfied: urllib3<3,>=1.21.1 in /opt/anaconda3/lib/python3.11/site-packages (from requests->transformers) (2.0.7)\n",
      "Requirement already satisfied: certifi>=2017.4.17 in /opt/anaconda3/lib/python3.11/site-packages (from requests->transformers) (2024.2.2)\n",
      "Downloading transformers-4.46.1-py3-none-any.whl (10.0 MB)\n",
      "\u001b[2K   \u001b[90m━━━━━━━━━━━━━━━━━━━━━━━━━━━━━━━━━━━━━━━━\u001b[0m \u001b[32m10.0/10.0 MB\u001b[0m \u001b[31m9.9 MB/s\u001b[0m eta \u001b[36m0:00:00\u001b[0m00:01\u001b[0m00:01\u001b[0m\n",
      "\u001b[?25hDownloading huggingface_hub-0.26.2-py3-none-any.whl (447 kB)\n",
      "\u001b[2K   \u001b[90m━━━━━━━━━━━━━━━━━━━━━━━━━━━━━━━━━━━━━━━━\u001b[0m \u001b[32m447.5/447.5 kB\u001b[0m \u001b[31m7.6 MB/s\u001b[0m eta \u001b[36m0:00:00\u001b[0mta \u001b[36m0:00:01\u001b[0m\n",
      "\u001b[?25hDownloading safetensors-0.4.5-cp311-cp311-macosx_11_0_arm64.whl (381 kB)\n",
      "\u001b[2K   \u001b[90m━━━━━━━━━━━━━━━━━━━━━━━━━━━━━━━━━━━━━━━━\u001b[0m \u001b[32m381.5/381.5 kB\u001b[0m \u001b[31m9.0 MB/s\u001b[0m eta \u001b[36m0:00:00\u001b[0m:00:01\u001b[0m\n",
      "\u001b[?25hDownloading tokenizers-0.20.1-cp311-cp311-macosx_11_0_arm64.whl (2.6 MB)\n",
      "\u001b[2K   \u001b[90m━━━━━━━━━━━━━━━━━━━━━━━━━━━━━━━━━━━━━━━━\u001b[0m \u001b[32m2.6/2.6 MB\u001b[0m \u001b[31m9.0 MB/s\u001b[0m eta \u001b[36m0:00:00\u001b[0m:00:01\u001b[0m0:01\u001b[0mm\n",
      "\u001b[?25hInstalling collected packages: safetensors, huggingface-hub, tokenizers, transformers\n",
      "Successfully installed huggingface-hub-0.26.2 safetensors-0.4.5 tokenizers-0.20.1 transformers-4.46.1\n"
     ]
    }
   ],
   "source": [
    "!pip install Sastrawi\n",
    "!pip install transformers"
   ]
  },
  {
   "cell_type": "code",
   "execution_count": null,
   "metadata": {},
   "outputs": [],
   "source": [
    "pip install wordcloud"
   ]
  },
  {
   "cell_type": "code",
   "execution_count": 2,
   "metadata": {},
   "outputs": [
    {
     "ename": "ModuleNotFoundError",
     "evalue": "No module named 'wordcloud'",
     "output_type": "error",
     "traceback": [
      "\u001b[0;31m---------------------------------------------------------------------------\u001b[0m",
      "\u001b[0;31mModuleNotFoundError\u001b[0m                       Traceback (most recent call last)",
      "Cell \u001b[0;32mIn[2], line 21\u001b[0m\n\u001b[1;32m     19\u001b[0m \u001b[38;5;28;01mfrom\u001b[39;00m \u001b[38;5;21;01mSastrawi\u001b[39;00m\u001b[38;5;21;01m.\u001b[39;00m\u001b[38;5;21;01mStemmer\u001b[39;00m\u001b[38;5;21;01m.\u001b[39;00m\u001b[38;5;21;01mStemmerFactory\u001b[39;00m \u001b[38;5;28;01mimport\u001b[39;00m StemmerFactory\n\u001b[1;32m     20\u001b[0m \u001b[38;5;28;01mfrom\u001b[39;00m \u001b[38;5;21;01mSastrawi\u001b[39;00m\u001b[38;5;21;01m.\u001b[39;00m\u001b[38;5;21;01mStopWordRemover\u001b[39;00m\u001b[38;5;21;01m.\u001b[39;00m\u001b[38;5;21;01mStopWordRemoverFactory\u001b[39;00m \u001b[38;5;28;01mimport\u001b[39;00m StopWordRemoverFactory\n\u001b[0;32m---> 21\u001b[0m \u001b[38;5;28;01mfrom\u001b[39;00m \u001b[38;5;21;01mwordcloud\u001b[39;00m \u001b[38;5;28;01mimport\u001b[39;00m WordCloud\n\u001b[1;32m     23\u001b[0m \u001b[38;5;28;01mfrom\u001b[39;00m \u001b[38;5;21;01msklearn\u001b[39;00m\u001b[38;5;21;01m.\u001b[39;00m\u001b[38;5;21;01mfeature_extraction\u001b[39;00m\u001b[38;5;21;01m.\u001b[39;00m\u001b[38;5;21;01mtext\u001b[39;00m \u001b[38;5;28;01mimport\u001b[39;00m TfidfVectorizer, CountVectorizer\n\u001b[1;32m     24\u001b[0m \u001b[38;5;28;01mfrom\u001b[39;00m \u001b[38;5;21;01msklearn\u001b[39;00m \u001b[38;5;28;01mimport\u001b[39;00m decomposition, ensemble\n",
      "\u001b[0;31mModuleNotFoundError\u001b[0m: No module named 'wordcloud'"
     ]
    }
   ],
   "source": [
    "# Import some libraries\n",
    "\n",
    "import pandas as pd\n",
    "pd.options.mode.chained_assignment = None\n",
    "import numpy as np\n",
    "seed = 0\n",
    "np.random.seed(seed)\n",
    "import matplotlib.pyplot as plt\n",
    "import seaborn as sns\n",
    "sns.set(style = 'whitegrid')\n",
    "\n",
    "import datetime as dt\n",
    "import re\n",
    "import string\n",
    "from nltk.tokenize import word_tokenize\n",
    "from nltk.corpus import stopwords\n",
    "\n",
    "\n",
    "from Sastrawi.Stemmer.StemmerFactory import StemmerFactory\n",
    "from Sastrawi.StopWordRemover.StopWordRemoverFactory import StopWordRemoverFactory\n",
    "from wordcloud import WordCloud\n",
    "\n",
    "from sklearn.feature_extraction.text import TfidfVectorizer, CountVectorizer\n",
    "from sklearn import decomposition, ensemble\n",
    "\n",
    "from google.colab import drive\n",
    "\n",
    "import nltk\n",
    "nltk.download('punkt')\n",
    "nltk.download('stopwords')"
   ]
  },
  {
   "cell_type": "markdown",
   "metadata": {},
   "source": [
    "## df Prep"
   ]
  },
  {
   "cell_type": "code",
   "execution_count": 3,
   "metadata": {},
   "outputs": [
    {
     "data": {
      "text/html": [
       "<div>\n",
       "<style scoped>\n",
       "    .dataframe tbody tr th:only-of-type {\n",
       "        vertical-align: middle;\n",
       "    }\n",
       "\n",
       "    .dataframe tbody tr th {\n",
       "        vertical-align: top;\n",
       "    }\n",
       "\n",
       "    .dataframe thead th {\n",
       "        text-align: right;\n",
       "    }\n",
       "</style>\n",
       "<table border=\"1\" class=\"dataframe\">\n",
       "  <thead>\n",
       "    <tr style=\"text-align: right;\">\n",
       "      <th></th>\n",
       "      <th>conversation_id_str</th>\n",
       "      <th>created_at</th>\n",
       "      <th>favorite_count</th>\n",
       "      <th>full_text</th>\n",
       "      <th>id_str</th>\n",
       "      <th>image_url</th>\n",
       "      <th>in_reply_to_screen_name</th>\n",
       "      <th>lang</th>\n",
       "      <th>location</th>\n",
       "      <th>quote_count</th>\n",
       "      <th>reply_count</th>\n",
       "      <th>retweet_count</th>\n",
       "      <th>tweet_url</th>\n",
       "      <th>user_id_str</th>\n",
       "      <th>username</th>\n",
       "    </tr>\n",
       "  </thead>\n",
       "  <tbody>\n",
       "    <tr>\n",
       "      <th>0</th>\n",
       "      <td>1840540824591020337</td>\n",
       "      <td>Sun Sep 29 23:55:02 +0000 2024</td>\n",
       "      <td>1</td>\n",
       "      <td>aku suka pemilu hehe</td>\n",
       "      <td>1840540824591020337</td>\n",
       "      <td>NaN</td>\n",
       "      <td>NaN</td>\n",
       "      <td>in</td>\n",
       "      <td>NaN</td>\n",
       "      <td>1</td>\n",
       "      <td>0</td>\n",
       "      <td>0</td>\n",
       "      <td>https://x.com/yaudahlahpasrah/status/184054082...</td>\n",
       "      <td>1094605073571672065</td>\n",
       "      <td>yaudahlahpasrah</td>\n",
       "    </tr>\n",
       "    <tr>\n",
       "      <th>1</th>\n",
       "      <td>1840540740847583671</td>\n",
       "      <td>Sun Sep 29 23:54:42 +0000 2024</td>\n",
       "      <td>56</td>\n",
       "      <td>Pemilu di negeri sekuat Amerika Serikat bisa d...</td>\n",
       "      <td>1840540740847583671</td>\n",
       "      <td>NaN</td>\n",
       "      <td>NaN</td>\n",
       "      <td>in</td>\n",
       "      <td>NaN</td>\n",
       "      <td>1</td>\n",
       "      <td>16</td>\n",
       "      <td>15</td>\n",
       "      <td>https://x.com/ariel_heryanto/status/1840540740...</td>\n",
       "      <td>296143572</td>\n",
       "      <td>ariel_heryanto</td>\n",
       "    </tr>\n",
       "    <tr>\n",
       "      <th>2</th>\n",
       "      <td>1840220844053934371</td>\n",
       "      <td>Sun Sep 29 23:51:44 +0000 2024</td>\n",
       "      <td>0</td>\n",
       "      <td>@Chrisyanto21 @raymondchins Ga ada istilah bak...</td>\n",
       "      <td>1840539991367422360</td>\n",
       "      <td>NaN</td>\n",
       "      <td>Chrisyanto21</td>\n",
       "      <td>in</td>\n",
       "      <td>Indonesia Timur</td>\n",
       "      <td>0</td>\n",
       "      <td>1</td>\n",
       "      <td>0</td>\n",
       "      <td>https://x.com/Robert32Arthur/status/1840539991...</td>\n",
       "      <td>942079081134174208</td>\n",
       "      <td>Robert32Arthur</td>\n",
       "    </tr>\n",
       "    <tr>\n",
       "      <th>3</th>\n",
       "      <td>1840255028575252762</td>\n",
       "      <td>Sun Sep 29 23:50:36 +0000 2024</td>\n",
       "      <td>0</td>\n",
       "      <td>@ahriesonta Dongeng lagi. Kasihan mereka cari ...</td>\n",
       "      <td>1840539706255360222</td>\n",
       "      <td>NaN</td>\n",
       "      <td>ahriesonta</td>\n",
       "      <td>in</td>\n",
       "      <td>8ft di bawah tanah</td>\n",
       "      <td>0</td>\n",
       "      <td>0</td>\n",
       "      <td>0</td>\n",
       "      <td>https://x.com/Donie707/status/1840539706255360222</td>\n",
       "      <td>1573280097003397121</td>\n",
       "      <td>Donie707</td>\n",
       "    </tr>\n",
       "    <tr>\n",
       "      <th>4</th>\n",
       "      <td>1840301498405925348</td>\n",
       "      <td>Sun Sep 29 23:45:45 +0000 2024</td>\n",
       "      <td>0</td>\n",
       "      <td>@LambeResing Kalau demo dia lari paling kencen...</td>\n",
       "      <td>1840538488904794500</td>\n",
       "      <td>NaN</td>\n",
       "      <td>LambeResing</td>\n",
       "      <td>in</td>\n",
       "      <td>8ft di bawah tanah</td>\n",
       "      <td>0</td>\n",
       "      <td>0</td>\n",
       "      <td>0</td>\n",
       "      <td>https://x.com/Donie707/status/1840538488904794500</td>\n",
       "      <td>1573280097003397121</td>\n",
       "      <td>Donie707</td>\n",
       "    </tr>\n",
       "    <tr>\n",
       "      <th>...</th>\n",
       "      <td>...</td>\n",
       "      <td>...</td>\n",
       "      <td>...</td>\n",
       "      <td>...</td>\n",
       "      <td>...</td>\n",
       "      <td>...</td>\n",
       "      <td>...</td>\n",
       "      <td>...</td>\n",
       "      <td>...</td>\n",
       "      <td>...</td>\n",
       "      <td>...</td>\n",
       "      <td>...</td>\n",
       "      <td>...</td>\n",
       "      <td>...</td>\n",
       "      <td>...</td>\n",
       "    </tr>\n",
       "    <tr>\n",
       "      <th>1553</th>\n",
       "      <td>1839945074555122152</td>\n",
       "      <td>Sun Sep 29 05:10:30 +0000 2024</td>\n",
       "      <td>24</td>\n",
       "      <td>@goraici Nunggu ada penelitian yang mengasosia...</td>\n",
       "      <td>1840257823609106770</td>\n",
       "      <td>NaN</td>\n",
       "      <td>goraici</td>\n",
       "      <td>in</td>\n",
       "      <td>Jakarta</td>\n",
       "      <td>0</td>\n",
       "      <td>0</td>\n",
       "      <td>1</td>\n",
       "      <td>https://x.com/elisa_jkt/status/184025782360910...</td>\n",
       "      <td>44556194</td>\n",
       "      <td>elisa_jkt</td>\n",
       "    </tr>\n",
       "    <tr>\n",
       "      <th>1554</th>\n",
       "      <td>1840010394980741484</td>\n",
       "      <td>Sun Sep 29 05:09:36 +0000 2024</td>\n",
       "      <td>0</td>\n",
       "      <td>@Adiprayitno_20 Dah biarin aja Mungkin sesuai ...</td>\n",
       "      <td>1840257599528415258</td>\n",
       "      <td>NaN</td>\n",
       "      <td>Adiprayitno_20</td>\n",
       "      <td>in</td>\n",
       "      <td>Russia</td>\n",
       "      <td>0</td>\n",
       "      <td>0</td>\n",
       "      <td>0</td>\n",
       "      <td>https://x.com/SManikmoyo/status/18402575995284...</td>\n",
       "      <td>1244476057891160064</td>\n",
       "      <td>SManikmoyo</td>\n",
       "    </tr>\n",
       "    <tr>\n",
       "      <th>1555</th>\n",
       "      <td>1839528669749846453</td>\n",
       "      <td>Sun Sep 29 04:54:19 +0000 2024</td>\n",
       "      <td>1</td>\n",
       "      <td>@Pegulatmasa @sayamakibao @xD34DBE3F @BuYungBi...</td>\n",
       "      <td>1840253752634421486</td>\n",
       "      <td>https://pbs.twimg.com/media/GYnlCEsbMAAbG1Q.jpg</td>\n",
       "      <td>Pegulatmasa</td>\n",
       "      <td>in</td>\n",
       "      <td>NaN</td>\n",
       "      <td>0</td>\n",
       "      <td>1</td>\n",
       "      <td>0</td>\n",
       "      <td>https://x.com/FurqanIbr64677/status/1840253752...</td>\n",
       "      <td>1669742231228682241</td>\n",
       "      <td>FurqanIbr64677</td>\n",
       "    </tr>\n",
       "    <tr>\n",
       "      <th>1556</th>\n",
       "      <td>1840253649722757263</td>\n",
       "      <td>Sun Sep 29 04:53:55 +0000 2024</td>\n",
       "      <td>0</td>\n",
       "      <td>Pada hari Minggu tanggal 29 September 2024 Per...</td>\n",
       "      <td>1840253649722757263</td>\n",
       "      <td>https://pbs.twimg.com/media/GYnk7lnasAINU_3.jpg</td>\n",
       "      <td>NaN</td>\n",
       "      <td>in</td>\n",
       "      <td>NaN</td>\n",
       "      <td>0</td>\n",
       "      <td>0</td>\n",
       "      <td>0</td>\n",
       "      <td>https://x.com/PolsekLing62979/status/184025364...</td>\n",
       "      <td>1768901743465897984</td>\n",
       "      <td>PolsekLing62979</td>\n",
       "    </tr>\n",
       "    <tr>\n",
       "      <th>1557</th>\n",
       "      <td>1839882957927981538</td>\n",
       "      <td>Sun Sep 29 04:49:47 +0000 2024</td>\n",
       "      <td>0</td>\n",
       "      <td>@ERaksasa @itsquaileggs @ainunnajib @aniesbasw...</td>\n",
       "      <td>1840252612278661613</td>\n",
       "      <td>https://pbs.twimg.com/media/GYnj_6oasAA9tLg.jpg</td>\n",
       "      <td>ERaksasa</td>\n",
       "      <td>in</td>\n",
       "      <td>Indonesia tercinta</td>\n",
       "      <td>0</td>\n",
       "      <td>1</td>\n",
       "      <td>0</td>\n",
       "      <td>https://x.com/Raden_Mas_Budi/status/1840252612...</td>\n",
       "      <td>820978803891576835</td>\n",
       "      <td>Raden_Mas_Budi</td>\n",
       "    </tr>\n",
       "  </tbody>\n",
       "</table>\n",
       "<p>1558 rows × 15 columns</p>\n",
       "</div>"
      ],
      "text/plain": [
       "      conversation_id_str                      created_at  favorite_count  \\\n",
       "0     1840540824591020337  Sun Sep 29 23:55:02 +0000 2024               1   \n",
       "1     1840540740847583671  Sun Sep 29 23:54:42 +0000 2024              56   \n",
       "2     1840220844053934371  Sun Sep 29 23:51:44 +0000 2024               0   \n",
       "3     1840255028575252762  Sun Sep 29 23:50:36 +0000 2024               0   \n",
       "4     1840301498405925348  Sun Sep 29 23:45:45 +0000 2024               0   \n",
       "...                   ...                             ...             ...   \n",
       "1553  1839945074555122152  Sun Sep 29 05:10:30 +0000 2024              24   \n",
       "1554  1840010394980741484  Sun Sep 29 05:09:36 +0000 2024               0   \n",
       "1555  1839528669749846453  Sun Sep 29 04:54:19 +0000 2024               1   \n",
       "1556  1840253649722757263  Sun Sep 29 04:53:55 +0000 2024               0   \n",
       "1557  1839882957927981538  Sun Sep 29 04:49:47 +0000 2024               0   \n",
       "\n",
       "                                              full_text               id_str  \\\n",
       "0                                  aku suka pemilu hehe  1840540824591020337   \n",
       "1     Pemilu di negeri sekuat Amerika Serikat bisa d...  1840540740847583671   \n",
       "2     @Chrisyanto21 @raymondchins Ga ada istilah bak...  1840539991367422360   \n",
       "3     @ahriesonta Dongeng lagi. Kasihan mereka cari ...  1840539706255360222   \n",
       "4     @LambeResing Kalau demo dia lari paling kencen...  1840538488904794500   \n",
       "...                                                 ...                  ...   \n",
       "1553  @goraici Nunggu ada penelitian yang mengasosia...  1840257823609106770   \n",
       "1554  @Adiprayitno_20 Dah biarin aja Mungkin sesuai ...  1840257599528415258   \n",
       "1555  @Pegulatmasa @sayamakibao @xD34DBE3F @BuYungBi...  1840253752634421486   \n",
       "1556  Pada hari Minggu tanggal 29 September 2024 Per...  1840253649722757263   \n",
       "1557  @ERaksasa @itsquaileggs @ainunnajib @aniesbasw...  1840252612278661613   \n",
       "\n",
       "                                            image_url in_reply_to_screen_name  \\\n",
       "0                                                 NaN                     NaN   \n",
       "1                                                 NaN                     NaN   \n",
       "2                                                 NaN            Chrisyanto21   \n",
       "3                                                 NaN              ahriesonta   \n",
       "4                                                 NaN             LambeResing   \n",
       "...                                               ...                     ...   \n",
       "1553                                              NaN                 goraici   \n",
       "1554                                              NaN          Adiprayitno_20   \n",
       "1555  https://pbs.twimg.com/media/GYnlCEsbMAAbG1Q.jpg             Pegulatmasa   \n",
       "1556  https://pbs.twimg.com/media/GYnk7lnasAINU_3.jpg                     NaN   \n",
       "1557  https://pbs.twimg.com/media/GYnj_6oasAA9tLg.jpg                ERaksasa   \n",
       "\n",
       "     lang            location  quote_count  reply_count  retweet_count  \\\n",
       "0      in                 NaN            1            0              0   \n",
       "1      in                 NaN            1           16             15   \n",
       "2      in     Indonesia Timur            0            1              0   \n",
       "3      in  8ft di bawah tanah            0            0              0   \n",
       "4      in  8ft di bawah tanah            0            0              0   \n",
       "...   ...                 ...          ...          ...            ...   \n",
       "1553   in             Jakarta            0            0              1   \n",
       "1554   in              Russia            0            0              0   \n",
       "1555   in                 NaN            0            1              0   \n",
       "1556   in                 NaN            0            0              0   \n",
       "1557   in  Indonesia tercinta            0            1              0   \n",
       "\n",
       "                                              tweet_url          user_id_str  \\\n",
       "0     https://x.com/yaudahlahpasrah/status/184054082...  1094605073571672065   \n",
       "1     https://x.com/ariel_heryanto/status/1840540740...            296143572   \n",
       "2     https://x.com/Robert32Arthur/status/1840539991...   942079081134174208   \n",
       "3     https://x.com/Donie707/status/1840539706255360222  1573280097003397121   \n",
       "4     https://x.com/Donie707/status/1840538488904794500  1573280097003397121   \n",
       "...                                                 ...                  ...   \n",
       "1553  https://x.com/elisa_jkt/status/184025782360910...             44556194   \n",
       "1554  https://x.com/SManikmoyo/status/18402575995284...  1244476057891160064   \n",
       "1555  https://x.com/FurqanIbr64677/status/1840253752...  1669742231228682241   \n",
       "1556  https://x.com/PolsekLing62979/status/184025364...  1768901743465897984   \n",
       "1557  https://x.com/Raden_Mas_Budi/status/1840252612...   820978803891576835   \n",
       "\n",
       "             username  \n",
       "0     yaudahlahpasrah  \n",
       "1      ariel_heryanto  \n",
       "2      Robert32Arthur  \n",
       "3            Donie707  \n",
       "4            Donie707  \n",
       "...               ...  \n",
       "1553        elisa_jkt  \n",
       "1554       SManikmoyo  \n",
       "1555   FurqanIbr64677  \n",
       "1556  PolsekLing62979  \n",
       "1557   Raden_Mas_Budi  \n",
       "\n",
       "[1558 rows x 15 columns]"
      ]
     },
     "execution_count": 3,
     "metadata": {},
     "output_type": "execute_result"
    }
   ],
   "source": [
    "# from folder tweets-data in this folder merge all csv files into one dataframe pandas\n",
    "import os\n",
    "import glob\n",
    "path = 'tweets-data'\n",
    "all_files = glob.glob(os.path.join(path, \"*.csv\"))\n",
    "df_from_each_file = (pd.read_csv(f) for f in all_files)\n",
    "df = pd.concat(df_from_each_file, ignore_index=True)\n",
    "df\n"
   ]
  },
  {
   "cell_type": "markdown",
   "metadata": {},
   "source": [
    "## Labeling"
   ]
  },
  {
   "cell_type": "code",
   "execution_count": 4,
   "metadata": {},
   "outputs": [
    {
     "data": {
      "application/vnd.jupyter.widget-view+json": {
       "model_id": "0b2b26d9be6243f0895ad74704b91e1f",
       "version_major": 2,
       "version_minor": 0
      },
      "text/plain": [
       "model.safetensors:   0%|          | 0.00/499M [00:00<?, ?B/s]"
      ]
     },
     "metadata": {},
     "output_type": "display_data"
    },
    {
     "data": {
      "application/vnd.jupyter.widget-view+json": {
       "model_id": "62bef042efc242c8bbd2007c391be85c",
       "version_major": 2,
       "version_minor": 0
      },
      "text/plain": [
       "tokenizer_config.json:   0%|          | 0.00/328 [00:00<?, ?B/s]"
      ]
     },
     "metadata": {},
     "output_type": "display_data"
    },
    {
     "data": {
      "application/vnd.jupyter.widget-view+json": {
       "model_id": "7b234d21722b4392b509b64a9df84311",
       "version_major": 2,
       "version_minor": 0
      },
      "text/plain": [
       "vocab.json:   0%|          | 0.00/808k [00:00<?, ?B/s]"
      ]
     },
     "metadata": {},
     "output_type": "display_data"
    },
    {
     "data": {
      "application/vnd.jupyter.widget-view+json": {
       "model_id": "a7fe640060eb4b5bb4c34272503b1747",
       "version_major": 2,
       "version_minor": 0
      },
      "text/plain": [
       "merges.txt:   0%|          | 0.00/467k [00:00<?, ?B/s]"
      ]
     },
     "metadata": {},
     "output_type": "display_data"
    },
    {
     "data": {
      "application/vnd.jupyter.widget-view+json": {
       "model_id": "0f1c772404264eb3bd9e853d10be8af2",
       "version_major": 2,
       "version_minor": 0
      },
      "text/plain": [
       "tokenizer.json:   0%|          | 0.00/1.38M [00:00<?, ?B/s]"
      ]
     },
     "metadata": {},
     "output_type": "display_data"
    },
    {
     "data": {
      "application/vnd.jupyter.widget-view+json": {
       "model_id": "cf282fc2744b442da5e347563248abf6",
       "version_major": 2,
       "version_minor": 0
      },
      "text/plain": [
       "special_tokens_map.json:   0%|          | 0.00/239 [00:00<?, ?B/s]"
      ]
     },
     "metadata": {},
     "output_type": "display_data"
    },
    {
     "name": "stderr",
     "output_type": "stream",
     "text": [
      "Hardware accelerator e.g. GPU is available in the environment, but no `device` argument is passed to the `Pipeline` object. Model will be on CPU.\n"
     ]
    },
    {
     "ename": "",
     "evalue": "",
     "output_type": "error",
     "traceback": [
      "\u001b[1;31mThe Kernel crashed while executing code in the current cell or a previous cell. \n",
      "\u001b[1;31mPlease review the code in the cell(s) to identify a possible cause of the failure. \n",
      "\u001b[1;31mClick <a href='https://aka.ms/vscodeJupyterKernelCrash'>here</a> for more info. \n",
      "\u001b[1;31mView Jupyter <a href='command:jupyter.viewOutput'>log</a> for further details."
     ]
    }
   ],
   "source": [
    "from transformers import pipeline\n",
    "\n",
    "pretrained_name = \"w11wo/indonesian-roberta-base-sentiment-classifier\"\n",
    "\n",
    "nlp = pipeline(\n",
    "    \"sentiment-analysis\",\n",
    "    model=pretrained_name,\n",
    "    tokenizer=pretrained_name\n",
    ")\n",
    "\n",
    "nlp(\"Jangan sampai saya telpon bos saya ya!\")\n"
   ]
  }
 ],
 "metadata": {
  "kernelspec": {
   "display_name": "base",
   "language": "python",
   "name": "python3"
  },
  "language_info": {
   "codemirror_mode": {
    "name": "ipython",
    "version": 3
   },
   "file_extension": ".py",
   "mimetype": "text/x-python",
   "name": "python",
   "nbconvert_exporter": "python",
   "pygments_lexer": "ipython3",
   "version": "3.11.7"
  }
 },
 "nbformat": 4,
 "nbformat_minor": 2
}
