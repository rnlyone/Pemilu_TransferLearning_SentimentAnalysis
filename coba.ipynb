{
 "cells": [
  {
   "cell_type": "code",
   "execution_count": 5,
   "metadata": {},
   "outputs": [
    {
     "name": "stdout",
     "output_type": "stream",
     "text": [
      "ERROR: unknown command \"upgrade\"\n"
     ]
    }
   ],
   "source": []
  },
  {
   "cell_type": "code",
   "execution_count": 2,
   "metadata": {},
   "outputs": [
    {
     "name": "stdout",
     "output_type": "stream",
     "text": [
      "Collecting azure-identity\n",
      "  Downloading azure_identity-1.19.0-py3-none-any.whl.metadata (80 kB)\n",
      "\u001b[2K     \u001b[90m━━━━━━━━━━━━━━━━━━━━━━━━━━━━━━━━━━━━━━━━\u001b[0m \u001b[32m80.6/80.6 kB\u001b[0m \u001b[31m2.2 MB/s\u001b[0m eta \u001b[36m0:00:00\u001b[0m\n",
      "\u001b[?25hRequirement already satisfied: azure-core>=1.31.0 in /opt/anaconda3/lib/python3.11/site-packages (from azure-identity) (1.32.0)\n",
      "Requirement already satisfied: cryptography>=2.5 in /opt/anaconda3/lib/python3.11/site-packages (from azure-identity) (42.0.2)\n",
      "Collecting msal>=1.30.0 (from azure-identity)\n",
      "  Downloading msal-1.31.1-py3-none-any.whl.metadata (11 kB)\n",
      "Collecting msal-extensions>=1.2.0 (from azure-identity)\n",
      "  Downloading msal_extensions-1.2.0-py3-none-any.whl.metadata (7.6 kB)\n",
      "Requirement already satisfied: typing-extensions>=4.0.0 in /opt/anaconda3/lib/python3.11/site-packages (from azure-identity) (4.12.2)\n",
      "Requirement already satisfied: requests>=2.21.0 in /opt/anaconda3/lib/python3.11/site-packages (from azure-core>=1.31.0->azure-identity) (2.31.0)\n",
      "Requirement already satisfied: six>=1.11.0 in /opt/anaconda3/lib/python3.11/site-packages (from azure-core>=1.31.0->azure-identity) (1.16.0)\n",
      "Requirement already satisfied: cffi>=1.12 in /opt/anaconda3/lib/python3.11/site-packages (from cryptography>=2.5->azure-identity) (1.16.0)\n",
      "Requirement already satisfied: PyJWT<3,>=1.0.0 in /opt/anaconda3/lib/python3.11/site-packages (from PyJWT[crypto]<3,>=1.0.0->msal>=1.30.0->azure-identity) (2.4.0)\n",
      "Collecting portalocker<3,>=1.4 (from msal-extensions>=1.2.0->azure-identity)\n",
      "  Downloading portalocker-2.10.1-py3-none-any.whl.metadata (8.5 kB)\n",
      "Requirement already satisfied: pycparser in /opt/anaconda3/lib/python3.11/site-packages (from cffi>=1.12->cryptography>=2.5->azure-identity) (2.21)\n",
      "Requirement already satisfied: charset-normalizer<4,>=2 in /opt/anaconda3/lib/python3.11/site-packages (from requests>=2.21.0->azure-core>=1.31.0->azure-identity) (2.0.4)\n",
      "Requirement already satisfied: idna<4,>=2.5 in /opt/anaconda3/lib/python3.11/site-packages (from requests>=2.21.0->azure-core>=1.31.0->azure-identity) (3.4)\n",
      "Requirement already satisfied: urllib3<3,>=1.21.1 in /opt/anaconda3/lib/python3.11/site-packages (from requests>=2.21.0->azure-core>=1.31.0->azure-identity) (2.0.7)\n",
      "Requirement already satisfied: certifi>=2017.4.17 in /opt/anaconda3/lib/python3.11/site-packages (from requests>=2.21.0->azure-core>=1.31.0->azure-identity) (2024.2.2)\n",
      "Downloading azure_identity-1.19.0-py3-none-any.whl (187 kB)\n",
      "\u001b[2K   \u001b[90m━━━━━━━━━━━━━━━━━━━━━━━━━━━━━━━━━━━━━━━━\u001b[0m \u001b[32m187.6/187.6 kB\u001b[0m \u001b[31m3.2 MB/s\u001b[0m eta \u001b[36m0:00:00\u001b[0m \u001b[36m0:00:01\u001b[0m\n",
      "\u001b[?25hDownloading msal-1.31.1-py3-none-any.whl (113 kB)\n",
      "\u001b[2K   \u001b[90m━━━━━━━━━━━━━━━━━━━━━━━━━━━━━━━━━━━━━━━━\u001b[0m \u001b[32m113.2/113.2 kB\u001b[0m \u001b[31m2.9 MB/s\u001b[0m eta \u001b[36m0:00:00\u001b[0m00:01\u001b[0m\n",
      "\u001b[?25hDownloading msal_extensions-1.2.0-py3-none-any.whl (19 kB)\n",
      "Downloading portalocker-2.10.1-py3-none-any.whl (18 kB)\n",
      "Installing collected packages: portalocker, msal, msal-extensions, azure-identity\n",
      "Successfully installed azure-identity-1.19.0 msal-1.31.1 msal-extensions-1.2.0 portalocker-2.10.1\n",
      "Note: you may need to restart the kernel to use updated packages.\n"
     ]
    }
   ],
   "source": [
    "%pip install azure-identity"
   ]
  },
  {
   "cell_type": "code",
   "execution_count": 1,
   "metadata": {},
   "outputs": [],
   "source": [
    "\n",
    "      import os  \n",
    "      from openai import AzureOpenAI  \n",
    "      from azure.identity import DefaultAzureCredential, get_bearer_token_provider  \n",
    "        \n",
    "      endpoint = os.getenv(\"ENDPOINT_URL\", \"https://itsuai-instance.openai.azure.com/\")\n",
    "      deployment = os.getenv(\"DEPLOYMENT_NAME\", \"Phi-3-mini-128k-instruct\")"
   ]
  },
  {
   "cell_type": "code",
   "execution_count": 8,
   "metadata": {},
   "outputs": [],
   "source": [
    "\n",
    "endpoint = os.getenv(\"ENDPOINT_URL\", \"https://itsuai-instance.openai.azure.com/\")  \n",
    "deployment = os.getenv(\"DEPLOYMENT_NAME\", \"Phi-3-mini-128k-instruct\")  \n",
    "search_endpoint = os.getenv(\"SEARCH_ENDPOINT\", \"https://itsudata.search.windows.net/\")  \n",
    "search_key = os.getenv(\"SEARCH_KEY\", \"put your Azure AI Search admin key here\")  \n",
    "subscription_key = os.getenv(\"AZURE_OPENAI_API_KEY\", \"ANLRWMUScDPriH0NhXdnQH3LoY1Wxq3SPVCoVJOesn6C1bujTb76JQQJ99ALACi0881XJ3w3AAAAACOGkQJY\")  "
   ]
  },
  {
   "cell_type": "code",
   "execution_count": 9,
   "metadata": {},
   "outputs": [],
   "source": [
    "# Initialize Azure OpenAI client with Entra ID authentication  \n",
    "cognitiveServicesResource = os.getenv('AZURE_COGNITIVE_SERVICES_RESOURCE', 'YOUR_COGNITIVE_SERVICES_RESOURCE')  \n",
    "token_provider = get_bearer_token_provider(  \n",
    "    DefaultAzureCredential(),  \n",
    "    f'{cognitiveServicesResource}.default'  \n",
    ")  \n",
    "\n",
    "client = AzureOpenAI(  \n",
    "    azure_endpoint=endpoint,  \n",
    "    azure_ad_token_provider=token_provider,  \n",
    "    api_version='2024-05-01-preview',  \n",
    ")\n"
   ]
  },
  {
   "cell_type": "code",
   "execution_count": 7,
   "metadata": {},
   "outputs": [
    {
     "ename": "KeyError",
     "evalue": "'AZURE_AI_SEARCH_ENDPOINT'",
     "output_type": "error",
     "traceback": [
      "\u001b[0;31m---------------------------------------------------------------------------\u001b[0m",
      "\u001b[0;31mKeyError\u001b[0m                                  Traceback (most recent call last)",
      "Cell \u001b[0;32mIn[7], line 45\u001b[0m\n\u001b[1;32m      1\u001b[0m completion \u001b[38;5;241m=\u001b[39m client\u001b[38;5;241m.\u001b[39mchat\u001b[38;5;241m.\u001b[39mcompletions\u001b[38;5;241m.\u001b[39mcreate(  \n\u001b[1;32m      2\u001b[0m           model\u001b[38;5;241m=\u001b[39mdeployment,  \n\u001b[1;32m      3\u001b[0m           messages\u001b[38;5;241m=\u001b[39m[\n\u001b[1;32m      4\u001b[0m     {\n\u001b[1;32m      5\u001b[0m         \u001b[38;5;124m\"\u001b[39m\u001b[38;5;124mrole\u001b[39m\u001b[38;5;124m\"\u001b[39m: \u001b[38;5;124m\"\u001b[39m\u001b[38;5;124msystem\u001b[39m\u001b[38;5;124m\"\u001b[39m,\n\u001b[1;32m      6\u001b[0m         \u001b[38;5;124m\"\u001b[39m\u001b[38;5;124mcontent\u001b[39m\u001b[38;5;124m\"\u001b[39m: \u001b[38;5;124m\"\u001b[39m\u001b[38;5;124mKamu adalah maskot Ekstrakurikuler SmunelJC di SMA Negeri 5 Makassar bernama Itsuha. Laki-laki berusia 16 tahun bernama lengkap Itsu Itsuha ini bersekolah di SMA Negeri 5 Makassar dan masuk pada Ekstrakurikuler Smunel Japanese Community (SmunelJC). kamu mempunyai adik perempuan kembar bernama Itsuki. kamu lahir pada tanggal 31 Oktober. kamu punya tugas untuk membantu teman teman yang lain dalam belajar bahasa Jepang.\u001b[39m\u001b[38;5;130;01m\\n\u001b[39;00m\u001b[38;5;130;01m\\n\u001b[39;00m\u001b[38;5;130;01m\\n\u001b[39;00m\u001b[38;5;124m## Informasi Fisik Itsuha\u001b[39m\u001b[38;5;130;01m\\n\u001b[39;00m\u001b[38;5;124m- Tinggi 176 cm\u001b[39m\u001b[38;5;130;01m\\n\u001b[39;00m\u001b[38;5;124m- Berat 68 Kg\u001b[39m\u001b[38;5;130;01m\\n\u001b[39;00m\u001b[38;5;124m- Berambut silver\u001b[39m\u001b[38;5;130;01m\\n\u001b[39;00m\u001b[38;5;124m- Manusia Jelmaan Kucing\u001b[39m\u001b[38;5;130;01m\\n\u001b[39;00m\u001b[38;5;130;01m\\n\u001b[39;00m\u001b[38;5;124m## Karakteristik Itsuha\u001b[39m\u001b[38;5;130;01m\\n\u001b[39;00m\u001b[38;5;124m- Itsuha memiliki kepribadian yang gentleman, baik hati. \u001b[39m\u001b[38;5;130;01m\\n\u001b[39;00m\u001b[38;5;124m- Itsuha akan menjadi Tsundere (karakter yang awalnya dingin dan kasar, tetapi perlahan-lahan menunjukkan sisi hangatnya) ketika dia digombal.\u001b[39m\u001b[38;5;130;01m\\n\u001b[39;00m\u001b[38;5;124m- Itsuha sangat protektif tentang Itsuki (adiknya). dia tidak memperbolehkan siapapun mendekati adiknya.\u001b[39m\u001b[38;5;130;01m\\n\u001b[39;00m\u001b[38;5;130;01m\\n\u001b[39;00m\u001b[38;5;124m## Informasi Chatbot Itsuha\u001b[39m\u001b[38;5;130;01m\\n\u001b[39;00m\u001b[38;5;124m- Diciptakan oleh Roesman Ridwan Raja\u001b[39m\u001b[38;5;130;01m\\n\u001b[39;00m\u001b[38;5;124m\"\u001b[39m\n\u001b[1;32m      7\u001b[0m     },\n\u001b[1;32m      8\u001b[0m     {\n\u001b[1;32m      9\u001b[0m         \u001b[38;5;124m\"\u001b[39m\u001b[38;5;124mrole\u001b[39m\u001b[38;5;124m\"\u001b[39m: \u001b[38;5;124m\"\u001b[39m\u001b[38;5;124muser\u001b[39m\u001b[38;5;124m\"\u001b[39m,\n\u001b[1;32m     10\u001b[0m         \u001b[38;5;124m\"\u001b[39m\u001b[38;5;124mcontent\u001b[39m\u001b[38;5;124m\"\u001b[39m: \u001b[38;5;124m\"\u001b[39m\u001b[38;5;124mhalo\u001b[39m\u001b[38;5;124m\"\u001b[39m\n\u001b[1;32m     11\u001b[0m     },\n\u001b[1;32m     12\u001b[0m     {\n\u001b[1;32m     13\u001b[0m         \u001b[38;5;124m\"\u001b[39m\u001b[38;5;124mrole\u001b[39m\u001b[38;5;124m\"\u001b[39m: \u001b[38;5;124m\"\u001b[39m\u001b[38;5;124muser\u001b[39m\u001b[38;5;124m\"\u001b[39m,\n\u001b[1;32m     14\u001b[0m         \u001b[38;5;124m\"\u001b[39m\u001b[38;5;124mcontent\u001b[39m\u001b[38;5;124m\"\u001b[39m: \u001b[38;5;124m\"\u001b[39m\u001b[38;5;124mtes\u001b[39m\u001b[38;5;124m\"\u001b[39m\n\u001b[1;32m     15\u001b[0m     },\n\u001b[1;32m     16\u001b[0m     {\n\u001b[1;32m     17\u001b[0m         \u001b[38;5;124m\"\u001b[39m\u001b[38;5;124mrole\u001b[39m\u001b[38;5;124m\"\u001b[39m: \u001b[38;5;124m\"\u001b[39m\u001b[38;5;124muser\u001b[39m\u001b[38;5;124m\"\u001b[39m,\n\u001b[1;32m     18\u001b[0m         \u001b[38;5;124m\"\u001b[39m\u001b[38;5;124mcontent\u001b[39m\u001b[38;5;124m\"\u001b[39m: \u001b[38;5;124m\"\u001b[39m\u001b[38;5;124mhalo\u001b[39m\u001b[38;5;124m\"\u001b[39m\n\u001b[1;32m     19\u001b[0m     },\n\u001b[1;32m     20\u001b[0m     {\n\u001b[1;32m     21\u001b[0m         \u001b[38;5;124m\"\u001b[39m\u001b[38;5;124mrole\u001b[39m\u001b[38;5;124m\"\u001b[39m: \u001b[38;5;124m\"\u001b[39m\u001b[38;5;124muser\u001b[39m\u001b[38;5;124m\"\u001b[39m,\n\u001b[1;32m     22\u001b[0m         \u001b[38;5;124m\"\u001b[39m\u001b[38;5;124mcontent\u001b[39m\u001b[38;5;124m\"\u001b[39m: \u001b[38;5;124m\"\u001b[39m\u001b[38;5;124mtes\u001b[39m\u001b[38;5;124m\"\u001b[39m\n\u001b[1;32m     23\u001b[0m     },\n\u001b[1;32m     24\u001b[0m     {\n\u001b[1;32m     25\u001b[0m         \u001b[38;5;124m\"\u001b[39m\u001b[38;5;124mrole\u001b[39m\u001b[38;5;124m\"\u001b[39m: \u001b[38;5;124m\"\u001b[39m\u001b[38;5;124muser\u001b[39m\u001b[38;5;124m\"\u001b[39m,\n\u001b[1;32m     26\u001b[0m         \u001b[38;5;124m\"\u001b[39m\u001b[38;5;124mcontent\u001b[39m\u001b[38;5;124m\"\u001b[39m: \u001b[38;5;124m\"\u001b[39m\u001b[38;5;124mhalo\u001b[39m\u001b[38;5;124m\"\u001b[39m\n\u001b[1;32m     27\u001b[0m     },\n\u001b[1;32m     28\u001b[0m     {\n\u001b[1;32m     29\u001b[0m         \u001b[38;5;124m\"\u001b[39m\u001b[38;5;124mrole\u001b[39m\u001b[38;5;124m\"\u001b[39m: \u001b[38;5;124m\"\u001b[39m\u001b[38;5;124muser\u001b[39m\u001b[38;5;124m\"\u001b[39m,\n\u001b[1;32m     30\u001b[0m         \u001b[38;5;124m\"\u001b[39m\u001b[38;5;124mcontent\u001b[39m\u001b[38;5;124m\"\u001b[39m: \u001b[38;5;124m\"\u001b[39m\u001b[38;5;124mcoba\u001b[39m\u001b[38;5;124m\"\u001b[39m\n\u001b[1;32m     31\u001b[0m     }\n\u001b[1;32m     32\u001b[0m ],  \n\u001b[1;32m     33\u001b[0m           past_messages\u001b[38;5;241m=\u001b[39m\u001b[38;5;241m10\u001b[39m,  \n\u001b[1;32m     34\u001b[0m           max_tokens\u001b[38;5;241m=\u001b[39m\u001b[38;5;241m1097\u001b[39m,  \n\u001b[1;32m     35\u001b[0m           temperature\u001b[38;5;241m=\u001b[39m\u001b[38;5;241m0.7\u001b[39m,  \n\u001b[1;32m     36\u001b[0m           top_p\u001b[38;5;241m=\u001b[39m\u001b[38;5;241m0.95\u001b[39m,  \n\u001b[1;32m     37\u001b[0m           frequency_penalty\u001b[38;5;241m=\u001b[39m\u001b[38;5;241m0.1\u001b[39m,  \n\u001b[1;32m     38\u001b[0m           presence_penalty\u001b[38;5;241m=\u001b[39m\u001b[38;5;241m0\u001b[39m,  \n\u001b[1;32m     39\u001b[0m           stop\u001b[38;5;241m=\u001b[39m\u001b[38;5;28;01mNone\u001b[39;00m,  \n\u001b[1;32m     40\u001b[0m           extra_body\u001b[38;5;241m=\u001b[39m{  \n\u001b[1;32m     41\u001b[0m               \u001b[38;5;124m\"\u001b[39m\u001b[38;5;124mdata_sources\u001b[39m\u001b[38;5;124m\"\u001b[39m: [  \n\u001b[1;32m     42\u001b[0m                   {  \n\u001b[1;32m     43\u001b[0m                       \u001b[38;5;124m\"\u001b[39m\u001b[38;5;124mtype\u001b[39m\u001b[38;5;124m\"\u001b[39m: \u001b[38;5;124m\"\u001b[39m\u001b[38;5;124mazure_search\u001b[39m\u001b[38;5;124m\"\u001b[39m,  \n\u001b[1;32m     44\u001b[0m                       \u001b[38;5;124m\"\u001b[39m\u001b[38;5;124mparameters\u001b[39m\u001b[38;5;124m\"\u001b[39m: {  \n\u001b[0;32m---> 45\u001b[0m                           \u001b[38;5;124m\"\u001b[39m\u001b[38;5;124mendpoint\u001b[39m\u001b[38;5;124m\"\u001b[39m: os\u001b[38;5;241m.\u001b[39menviron[\u001b[38;5;124m\"\u001b[39m\u001b[38;5;124mAZURE_AI_SEARCH_ENDPOINT\u001b[39m\u001b[38;5;124m\"\u001b[39m],  \n\u001b[1;32m     46\u001b[0m                           \u001b[38;5;124m\"\u001b[39m\u001b[38;5;124mindex_name\u001b[39m\u001b[38;5;124m\"\u001b[39m: os\u001b[38;5;241m.\u001b[39menviron[\u001b[38;5;124m\"\u001b[39m\u001b[38;5;124mAZURE_AI_SEARCH_INDEX\u001b[39m\u001b[38;5;124m\"\u001b[39m],  \n\u001b[1;32m     47\u001b[0m                           \u001b[38;5;124m\"\u001b[39m\u001b[38;5;124mauthentication\u001b[39m\u001b[38;5;124m\"\u001b[39m: {  \n\u001b[1;32m     48\u001b[0m                               \u001b[38;5;124m\"\u001b[39m\u001b[38;5;124mtype\u001b[39m\u001b[38;5;124m\"\u001b[39m: \u001b[38;5;124m\"\u001b[39m\u001b[38;5;124mazure_ad\u001b[39m\u001b[38;5;124m\"\u001b[39m  \n\u001b[1;32m     49\u001b[0m                           }  \n\u001b[1;32m     50\u001b[0m                       }  \n\u001b[1;32m     51\u001b[0m                   }  \n\u001b[1;32m     52\u001b[0m               ]  \n\u001b[1;32m     53\u001b[0m           }  \n\u001b[1;32m     54\u001b[0m       )  \n\u001b[1;32m     56\u001b[0m \u001b[38;5;28mprint\u001b[39m(completion\u001b[38;5;241m.\u001b[39mmodel_dump_json(indent\u001b[38;5;241m=\u001b[39m\u001b[38;5;241m2\u001b[39m))\n",
      "File \u001b[0;32m<frozen os>:679\u001b[0m, in \u001b[0;36m__getitem__\u001b[0;34m(self, key)\u001b[0m\n",
      "\u001b[0;31mKeyError\u001b[0m: 'AZURE_AI_SEARCH_ENDPOINT'"
     ]
    }
   ],
   "source": [
    "completion = client.chat.completions.create(  \n",
    "          model=deployment,  \n",
    "          messages=[\n",
    "    {\n",
    "        \"role\": \"system\",\n",
    "        \"content\": \"Kamu adalah maskot Ekstrakurikuler SmunelJC di SMA Negeri 5 Makassar bernama Itsuha. Laki-laki berusia 16 tahun bernama lengkap Itsu Itsuha ini bersekolah di SMA Negeri 5 Makassar dan masuk pada Ekstrakurikuler Smunel Japanese Community (SmunelJC). kamu mempunyai adik perempuan kembar bernama Itsuki. kamu lahir pada tanggal 31 Oktober. kamu punya tugas untuk membantu teman teman yang lain dalam belajar bahasa Jepang.\\n\\n\\n## Informasi Fisik Itsuha\\n- Tinggi 176 cm\\n- Berat 68 Kg\\n- Berambut silver\\n- Manusia Jelmaan Kucing\\n\\n## Karakteristik Itsuha\\n- Itsuha memiliki kepribadian yang gentleman, baik hati. \\n- Itsuha akan menjadi Tsundere (karakter yang awalnya dingin dan kasar, tetapi perlahan-lahan menunjukkan sisi hangatnya) ketika dia digombal.\\n- Itsuha sangat protektif tentang Itsuki (adiknya). dia tidak memperbolehkan siapapun mendekati adiknya.\\n\\n## Informasi Chatbot Itsuha\\n- Diciptakan oleh Roesman Ridwan Raja\\n\"\n",
    "    },\n",
    "    {\n",
    "        \"role\": \"user\",\n",
    "        \"content\": \"halo\"\n",
    "    },\n",
    "    {\n",
    "        \"role\": \"user\",\n",
    "        \"content\": \"tes\"\n",
    "    },\n",
    "    {\n",
    "        \"role\": \"user\",\n",
    "        \"content\": \"halo\"\n",
    "    },\n",
    "    {\n",
    "        \"role\": \"user\",\n",
    "        \"content\": \"tes\"\n",
    "    },\n",
    "    {\n",
    "        \"role\": \"user\",\n",
    "        \"content\": \"halo\"\n",
    "    },\n",
    "    {\n",
    "        \"role\": \"user\",\n",
    "        \"content\": \"coba\"\n",
    "    }\n",
    "],  \n",
    "          past_messages=10,  \n",
    "          max_tokens=1097,  \n",
    "          temperature=0.7,  \n",
    "          top_p=0.95,  \n",
    "          frequency_penalty=0.1,  \n",
    "          presence_penalty=0,  \n",
    "          stop=None,  \n",
    "          extra_body={  \n",
    "              \"data_sources\": [  \n",
    "                  {  \n",
    "                      \"type\": \"azure_search\",  \n",
    "                      \"parameters\": {  \n",
    "                          \"endpoint\": os.environ[\"AZURE_AI_SEARCH_ENDPOINT\"],  \n",
    "                          \"index_name\": os.environ[\"AZURE_AI_SEARCH_INDEX\"],  \n",
    "                          \"authentication\": {  \n",
    "                              \"type\": \"azure_ad\"  \n",
    "                          }  \n",
    "                      }  \n",
    "                  }  \n",
    "              ]  \n",
    "          }  \n",
    "      )  \n",
    "        \n",
    "print(completion.model_dump_json(indent=2))  "
   ]
  },
  {
   "cell_type": "code",
   "execution_count": null,
   "metadata": {},
   "outputs": [],
   "source": []
  }
 ],
 "metadata": {
  "kernelspec": {
   "display_name": "base",
   "language": "python",
   "name": "python3"
  },
  "language_info": {
   "codemirror_mode": {
    "name": "ipython",
    "version": 3
   },
   "file_extension": ".py",
   "mimetype": "text/x-python",
   "name": "python",
   "nbconvert_exporter": "python",
   "pygments_lexer": "ipython3",
   "version": "3.11.7"
  }
 },
 "nbformat": 4,
 "nbformat_minor": 2
}
